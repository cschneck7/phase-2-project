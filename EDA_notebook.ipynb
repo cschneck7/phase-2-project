{
 "cells": [
  {
   "cell_type": "markdown",
   "metadata": {},
   "source": [
    "# EDA Notebook"
   ]
  },
  {
   "cell_type": "markdown",
   "metadata": {},
   "source": [
    "## Data Understanding"
   ]
  },
  {
   "cell_type": "code",
   "execution_count": 2,
   "metadata": {},
   "outputs": [],
   "source": [
    "import pandas as pd\n",
    "import numpy as np\n",
    "import matplotlib.pyplot as plt\n",
    "import seaborn as sns\n",
    "from scipy.stats import stats\n",
    "\n",
    "plt.style.use('bmh')\n",
    "%matplotlib inline"
   ]
  },
  {
   "cell_type": "code",
   "execution_count": 3,
   "metadata": {},
   "outputs": [
    {
     "data": {
      "text/html": [
       "<div>\n",
       "<style scoped>\n",
       "    .dataframe tbody tr th:only-of-type {\n",
       "        vertical-align: middle;\n",
       "    }\n",
       "\n",
       "    .dataframe tbody tr th {\n",
       "        vertical-align: top;\n",
       "    }\n",
       "\n",
       "    .dataframe thead th {\n",
       "        text-align: right;\n",
       "    }\n",
       "</style>\n",
       "<table border=\"1\" class=\"dataframe\">\n",
       "  <thead>\n",
       "    <tr style=\"text-align: right;\">\n",
       "      <th></th>\n",
       "      <th>id</th>\n",
       "      <th>date</th>\n",
       "      <th>price</th>\n",
       "      <th>bedrooms</th>\n",
       "      <th>bathrooms</th>\n",
       "      <th>sqft_living</th>\n",
       "      <th>sqft_lot</th>\n",
       "      <th>floors</th>\n",
       "      <th>waterfront</th>\n",
       "      <th>view</th>\n",
       "      <th>...</th>\n",
       "      <th>grade</th>\n",
       "      <th>sqft_above</th>\n",
       "      <th>sqft_basement</th>\n",
       "      <th>yr_built</th>\n",
       "      <th>yr_renovated</th>\n",
       "      <th>zipcode</th>\n",
       "      <th>lat</th>\n",
       "      <th>long</th>\n",
       "      <th>sqft_living15</th>\n",
       "      <th>sqft_lot15</th>\n",
       "    </tr>\n",
       "  </thead>\n",
       "  <tbody>\n",
       "    <tr>\n",
       "      <th>0</th>\n",
       "      <td>7129300520</td>\n",
       "      <td>10/13/2014</td>\n",
       "      <td>221900.0</td>\n",
       "      <td>3</td>\n",
       "      <td>1.00</td>\n",
       "      <td>1180</td>\n",
       "      <td>5650</td>\n",
       "      <td>1.0</td>\n",
       "      <td>NaN</td>\n",
       "      <td>NONE</td>\n",
       "      <td>...</td>\n",
       "      <td>7 Average</td>\n",
       "      <td>1180</td>\n",
       "      <td>0.0</td>\n",
       "      <td>1955</td>\n",
       "      <td>0.0</td>\n",
       "      <td>98178</td>\n",
       "      <td>47.5112</td>\n",
       "      <td>-122.257</td>\n",
       "      <td>1340</td>\n",
       "      <td>5650</td>\n",
       "    </tr>\n",
       "    <tr>\n",
       "      <th>1</th>\n",
       "      <td>6414100192</td>\n",
       "      <td>12/9/2014</td>\n",
       "      <td>538000.0</td>\n",
       "      <td>3</td>\n",
       "      <td>2.25</td>\n",
       "      <td>2570</td>\n",
       "      <td>7242</td>\n",
       "      <td>2.0</td>\n",
       "      <td>NO</td>\n",
       "      <td>NONE</td>\n",
       "      <td>...</td>\n",
       "      <td>7 Average</td>\n",
       "      <td>2170</td>\n",
       "      <td>400.0</td>\n",
       "      <td>1951</td>\n",
       "      <td>1991.0</td>\n",
       "      <td>98125</td>\n",
       "      <td>47.7210</td>\n",
       "      <td>-122.319</td>\n",
       "      <td>1690</td>\n",
       "      <td>7639</td>\n",
       "    </tr>\n",
       "    <tr>\n",
       "      <th>2</th>\n",
       "      <td>5631500400</td>\n",
       "      <td>2/25/2015</td>\n",
       "      <td>180000.0</td>\n",
       "      <td>2</td>\n",
       "      <td>1.00</td>\n",
       "      <td>770</td>\n",
       "      <td>10000</td>\n",
       "      <td>1.0</td>\n",
       "      <td>NO</td>\n",
       "      <td>NONE</td>\n",
       "      <td>...</td>\n",
       "      <td>6 Low Average</td>\n",
       "      <td>770</td>\n",
       "      <td>0.0</td>\n",
       "      <td>1933</td>\n",
       "      <td>NaN</td>\n",
       "      <td>98028</td>\n",
       "      <td>47.7379</td>\n",
       "      <td>-122.233</td>\n",
       "      <td>2720</td>\n",
       "      <td>8062</td>\n",
       "    </tr>\n",
       "    <tr>\n",
       "      <th>3</th>\n",
       "      <td>2487200875</td>\n",
       "      <td>12/9/2014</td>\n",
       "      <td>604000.0</td>\n",
       "      <td>4</td>\n",
       "      <td>3.00</td>\n",
       "      <td>1960</td>\n",
       "      <td>5000</td>\n",
       "      <td>1.0</td>\n",
       "      <td>NO</td>\n",
       "      <td>NONE</td>\n",
       "      <td>...</td>\n",
       "      <td>7 Average</td>\n",
       "      <td>1050</td>\n",
       "      <td>910.0</td>\n",
       "      <td>1965</td>\n",
       "      <td>0.0</td>\n",
       "      <td>98136</td>\n",
       "      <td>47.5208</td>\n",
       "      <td>-122.393</td>\n",
       "      <td>1360</td>\n",
       "      <td>5000</td>\n",
       "    </tr>\n",
       "    <tr>\n",
       "      <th>4</th>\n",
       "      <td>1954400510</td>\n",
       "      <td>2/18/2015</td>\n",
       "      <td>510000.0</td>\n",
       "      <td>3</td>\n",
       "      <td>2.00</td>\n",
       "      <td>1680</td>\n",
       "      <td>8080</td>\n",
       "      <td>1.0</td>\n",
       "      <td>NO</td>\n",
       "      <td>NONE</td>\n",
       "      <td>...</td>\n",
       "      <td>8 Good</td>\n",
       "      <td>1680</td>\n",
       "      <td>0.0</td>\n",
       "      <td>1987</td>\n",
       "      <td>0.0</td>\n",
       "      <td>98074</td>\n",
       "      <td>47.6168</td>\n",
       "      <td>-122.045</td>\n",
       "      <td>1800</td>\n",
       "      <td>7503</td>\n",
       "    </tr>\n",
       "  </tbody>\n",
       "</table>\n",
       "<p>5 rows × 21 columns</p>\n",
       "</div>"
      ],
      "text/plain": [
       "           id        date     price  bedrooms  bathrooms  sqft_living  \\\n",
       "0  7129300520  10/13/2014  221900.0         3       1.00         1180   \n",
       "1  6414100192   12/9/2014  538000.0         3       2.25         2570   \n",
       "2  5631500400   2/25/2015  180000.0         2       1.00          770   \n",
       "3  2487200875   12/9/2014  604000.0         4       3.00         1960   \n",
       "4  1954400510   2/18/2015  510000.0         3       2.00         1680   \n",
       "\n",
       "   sqft_lot  floors waterfront  view  ...          grade sqft_above  \\\n",
       "0      5650     1.0        NaN  NONE  ...      7 Average       1180   \n",
       "1      7242     2.0         NO  NONE  ...      7 Average       2170   \n",
       "2     10000     1.0         NO  NONE  ...  6 Low Average        770   \n",
       "3      5000     1.0         NO  NONE  ...      7 Average       1050   \n",
       "4      8080     1.0         NO  NONE  ...         8 Good       1680   \n",
       "\n",
       "   sqft_basement yr_built  yr_renovated  zipcode      lat     long  \\\n",
       "0            0.0     1955           0.0    98178  47.5112 -122.257   \n",
       "1          400.0     1951        1991.0    98125  47.7210 -122.319   \n",
       "2            0.0     1933           NaN    98028  47.7379 -122.233   \n",
       "3          910.0     1965           0.0    98136  47.5208 -122.393   \n",
       "4            0.0     1987           0.0    98074  47.6168 -122.045   \n",
       "\n",
       "   sqft_living15  sqft_lot15  \n",
       "0           1340        5650  \n",
       "1           1690        7639  \n",
       "2           2720        8062  \n",
       "3           1360        5000  \n",
       "4           1800        7503  \n",
       "\n",
       "[5 rows x 21 columns]"
      ]
     },
     "execution_count": 3,
     "metadata": {},
     "output_type": "execute_result"
    }
   ],
   "source": [
    "# Load Kings county database and preview first few entries\n",
    "kc_df = pd.read_csv('data/kc_house_data.csv')\n",
    "kc_df.head()"
   ]
  },
  {
   "cell_type": "code",
   "execution_count": 4,
   "metadata": {},
   "outputs": [
    {
     "name": "stdout",
     "output_type": "stream",
     "text": [
      "<class 'pandas.core.frame.DataFrame'>\n",
      "RangeIndex: 21597 entries, 0 to 21596\n",
      "Data columns (total 21 columns):\n",
      " #   Column         Non-Null Count  Dtype  \n",
      "---  ------         --------------  -----  \n",
      " 0   id             21597 non-null  int64  \n",
      " 1   date           21597 non-null  object \n",
      " 2   price          21597 non-null  float64\n",
      " 3   bedrooms       21597 non-null  int64  \n",
      " 4   bathrooms      21597 non-null  float64\n",
      " 5   sqft_living    21597 non-null  int64  \n",
      " 6   sqft_lot       21597 non-null  int64  \n",
      " 7   floors         21597 non-null  float64\n",
      " 8   waterfront     19221 non-null  object \n",
      " 9   view           21534 non-null  object \n",
      " 10  condition      21597 non-null  object \n",
      " 11  grade          21597 non-null  object \n",
      " 12  sqft_above     21597 non-null  int64  \n",
      " 13  sqft_basement  21597 non-null  object \n",
      " 14  yr_built       21597 non-null  int64  \n",
      " 15  yr_renovated   17755 non-null  float64\n",
      " 16  zipcode        21597 non-null  int64  \n",
      " 17  lat            21597 non-null  float64\n",
      " 18  long           21597 non-null  float64\n",
      " 19  sqft_living15  21597 non-null  int64  \n",
      " 20  sqft_lot15     21597 non-null  int64  \n",
      "dtypes: float64(6), int64(9), object(6)\n",
      "memory usage: 3.5+ MB\n"
     ]
    }
   ],
   "source": [
    "# Taking a look at all the columns, data types, and missing entries\n",
    "kc_df.info()"
   ]
  },
  {
   "cell_type": "markdown",
   "metadata": {},
   "source": [
    "The data contains 21 total columns, 12 of type int or float, and 6 of type object. It contains:\n",
    "\n",
    "- `id` column which have a unique id value for each house\n",
    "- `date` column with the sale date (Years 2014 - 2015)\n",
    "- `price` column with the price of sale and our target variable\n",
    "    - <p>mean: \\$540296</p>\n",
    "    - <p>std: \\$367368</p>\n",
    "- `bedrooms`, `bathrooms` and `floors` columns with counts of each in their respective house\n",
    "- four area variables defining the square footage of living space, lot space, area of house apart from the basement, and area of the basement.\n",
    "- two area variables describing the living and lot area of the 15 nearest neighbors\n",
    "- `waterfront` variable of whether the house is on a waterfront (Yes/No)\n",
    "- `view` describing quality of view from house\n",
    "    - (None, Fair, Average, Good, Excellent)\n",
    "- `condition` for the overall maintanence condtion of the house\n",
    "    - (Poor, Fair, Average, Good, Very Good)\n",
    "- `grade` describing overall construction and design grade of the house \n",
    "    - (Poor, Low, Fair, Low Average, Average, Good, Better, Very Good, Excellent, Luxury, Mansion)\n",
    "- `yr_built` for when the house was built\n",
    "- `yr_renovated` for when house was renovated last (if applicable)\n",
    "- three location columns detailing `zipcode`, latitude (`lat`) and longitude (`long`) of the house.\n",
    "    - Our data consists of an area covering 70 zipcodes\n"
   ]
  },
  {
   "cell_type": "code",
   "execution_count": 5,
   "metadata": {},
   "outputs": [
    {
     "name": "stdout",
     "output_type": "stream",
     "text": [
      "The data spans the years 2014 to 2015\n",
      "Sales price mean: $540296, stdev: $367368\n"
     ]
    }
   ],
   "source": [
    "# Checking the years spanned by the data set\n",
    "sales_year = kc_df.date.map(lambda x: int(x[-4:]))\n",
    "\n",
    "print('The data spans the years {} to {}'.format(min(sales_year), max(sales_year)))\n",
    "\n",
    "# finds mean and standard deviation of price\n",
    "print('Sales price mean: ${}, stdev: ${}'.format(int(kc_df.price.mean()),int(kc_df.price.std())))"
   ]
  },
  {
   "cell_type": "code",
   "execution_count": 6,
   "metadata": {},
   "outputs": [
    {
     "data": {
      "text/plain": [
       "NONE         19422\n",
       "AVERAGE        957\n",
       "GOOD           508\n",
       "FAIR           330\n",
       "EXCELLENT      317\n",
       "Name: view, dtype: int64"
      ]
     },
     "execution_count": 6,
     "metadata": {},
     "output_type": "execute_result"
    }
   ],
   "source": [
    "# Checking view values\n",
    "kc_df.view.value_counts()"
   ]
  },
  {
   "cell_type": "code",
   "execution_count": 7,
   "metadata": {},
   "outputs": [
    {
     "data": {
      "text/plain": [
       "Average      14020\n",
       "Good          5677\n",
       "Very Good     1701\n",
       "Fair           170\n",
       "Poor            29\n",
       "Name: condition, dtype: int64"
      ]
     },
     "execution_count": 7,
     "metadata": {},
     "output_type": "execute_result"
    }
   ],
   "source": [
    "# Checking condition values\n",
    "kc_df.condition.value_counts()"
   ]
  },
  {
   "cell_type": "code",
   "execution_count": 8,
   "metadata": {},
   "outputs": [
    {
     "data": {
      "text/plain": [
       "7 Average        8974\n",
       "8 Good           6065\n",
       "9 Better         2615\n",
       "6 Low Average    2038\n",
       "10 Very Good     1134\n",
       "11 Excellent      399\n",
       "5 Fair            242\n",
       "12 Luxury          89\n",
       "4 Low              27\n",
       "13 Mansion         13\n",
       "3 Poor              1\n",
       "Name: grade, dtype: int64"
      ]
     },
     "execution_count": 8,
     "metadata": {},
     "output_type": "execute_result"
    }
   ],
   "source": [
    "# Checking grade values\n",
    "kc_df.grade.value_counts()"
   ]
  },
  {
   "cell_type": "code",
   "execution_count": 9,
   "metadata": {
    "scrolled": true
   },
   "outputs": [
    {
     "name": "stdout",
     "output_type": "stream",
     "text": [
      "There are 70 unique zipcodes in this data set\n"
     ]
    }
   ],
   "source": [
    "# Checking how many unique zipcodes are included in the dataset\n",
    "num_of_zip = len(kc_df.zipcode.unique())\n",
    "print('There are {} unique zipcodes in this data set'.format(num_of_zip))"
   ]
  },
  {
   "cell_type": "markdown",
   "metadata": {},
   "source": [
    "## Data Preparation\n"
   ]
  },
  {
   "cell_type": "markdown",
   "metadata": {},
   "source": [
    "At first glance, the columns for `id`, latitude (`lat`), and longitude (`long`) can be removed. The `id` column is good for reference, but not good for a linear regression model. The latitude and longitude appear to be difficult variables to deal with since they describe an exact location. In a linear regression model their seperate coefficients would only be good for how far in a cordinal direction they are. Having zones like a zipcode would be preferable as that defines a region, though having a 70 unique zipcodes in our data set would create a lot of columns if they were treated categorically and one hot encoded. Therefore the `zipcode` column will also be ommitted from our calculations. Another column that can be removed is the `date`. If our data set spanned a longer time this column may be used to adjust for inflation, or observe outside conditions that caused housing prices to drastically change like the 2006 housing bubble. Since our data only spans the years of 2014 and 2015 this isn't necessary.\n",
    "\n",
    "We also have to consider which columns can actually pertain to our problem. We are looking for the best variables to improve to increase the sales price. Variables like `waterfront`, `view`, `yr_built`, `yr_renovated`, `sqft_living15` and `sqft_lot15` are variables that all depend on location and can't be improved after purchase. Considering that these variables are most likely impossible to change, they will also be ommitted from our calculations."
   ]
  },
  {
   "cell_type": "code",
   "execution_count": 10,
   "metadata": {},
   "outputs": [
    {
     "name": "stdout",
     "output_type": "stream",
     "text": [
      "<class 'pandas.core.frame.DataFrame'>\n",
      "RangeIndex: 21597 entries, 0 to 21596\n",
      "Data columns (total 10 columns):\n",
      " #   Column         Non-Null Count  Dtype  \n",
      "---  ------         --------------  -----  \n",
      " 0   price          21597 non-null  float64\n",
      " 1   bedrooms       21597 non-null  int64  \n",
      " 2   bathrooms      21597 non-null  float64\n",
      " 3   sqft_living    21597 non-null  int64  \n",
      " 4   sqft_lot       21597 non-null  int64  \n",
      " 5   floors         21597 non-null  float64\n",
      " 6   condition      21597 non-null  object \n",
      " 7   grade          21597 non-null  object \n",
      " 8   sqft_above     21597 non-null  int64  \n",
      " 9   sqft_basement  21597 non-null  object \n",
      "dtypes: float64(3), int64(4), object(3)\n",
      "memory usage: 1.6+ MB\n"
     ]
    }
   ],
   "source": [
    "# Dropping unnecessary columns from original dataset\n",
    "unn_columns = ['id', 'date', 'lat', 'long', 'zipcode', 'waterfront',\n",
    "               'view', 'yr_built', 'yr_renovated', 'sqft_living15',\n",
    "              'sqft_lot15']\n",
    "\n",
    "kc_df_iprep = kc_df.drop(columns=unn_columns, axis=1).copy()\n",
    "kc_df_iprep.info()"
   ]
  },
  {
   "cell_type": "markdown",
   "metadata": {},
   "source": [
    "We now need to handle the three columns left of type object. The different entries from `condition` and `grade` were already seen and understood. Since these two columns are rankings and order, they will be treated as numerical columns instead of categorical. \n",
    "\n",
    "The `grade` columns values already have a numerical ranking assigned to them followed by the description. Therefore we will just remove the description for each.\n",
    "\n",
    "The `condition` column only contains the description, so they will be replaced using the map below.\n",
    "\n",
    "- Poor: 1\n",
    "- Fair: 2\n",
    "- Average: 3\n",
    "- Good: 4\n",
    "- Very Good: 5"
   ]
  },
  {
   "cell_type": "code",
   "execution_count": 11,
   "metadata": {},
   "outputs": [
    {
     "data": {
      "text/plain": [
       "{'?': 454}"
      ]
     },
     "execution_count": 11,
     "metadata": {},
     "output_type": "execute_result"
    }
   ],
   "source": [
    "# Taking a look at sqft_basement values\n",
    "# There were many unique values so value_counts was avoided\n",
    "objects = {}\n",
    "\n",
    "for x in kc_df_iprep.sqft_basement:\n",
    "    try:\n",
    "        float(x)\n",
    "    except:\n",
    "        objects[x] = objects.get(x, 0) + 1\n",
    "objects"
   ]
  },
  {
   "cell_type": "code",
   "execution_count": 12,
   "metadata": {},
   "outputs": [
    {
     "data": {
      "text/plain": [
       "0.0       12826\n",
       "?           454\n",
       "600.0       217\n",
       "500.0       209\n",
       "700.0       208\n",
       "          ...  \n",
       "602.0         1\n",
       "4820.0        1\n",
       "2310.0        1\n",
       "374.0         1\n",
       "172.0         1\n",
       "Name: sqft_basement, Length: 304, dtype: int64"
      ]
     },
     "execution_count": 12,
     "metadata": {},
     "output_type": "execute_result"
    }
   ],
   "source": [
    "kc_df_iprep.sqft_basement.value_counts()"
   ]
  },
  {
   "cell_type": "markdown",
   "metadata": {},
   "source": [
    "The `sqft_basement` data contains a question mark. This is possibly entered when there was a basement with no access. These entries will be replaced with the median value of the rest of the entries which turns out to be zero."
   ]
  },
  {
   "cell_type": "code",
   "execution_count": 13,
   "metadata": {},
   "outputs": [],
   "source": [
    "def initial_prep(df):\n",
    "#     Maps new values for condition column\n",
    "    condition_map = {'Poor': 1, 'Fair': 2, 'Average': 3, 'Good': 4, 'Very Good': 5}\n",
    "    df.condition = df.condition.map(condition_map)\n",
    "\n",
    "#    Function to take only numeric value of grade rating\n",
    "    def grade_change(ds):\n",
    "        return int(ds[:2])\n",
    "\n",
    "#     Takes only numerical value of grade rating    \n",
    "    df.grade = df.grade.map(grade_change)\n",
    "    \n",
    "#     Replaces ? in sqft_basement to the median value, and changes dtype to float\n",
    "    med = df.loc[(df.sqft_basement != '?'),\n",
    "             'sqft_basement'].map(lambda x: float(x)).median() \n",
    "\n",
    "    def sqft_basement_map(ds):\n",
    "        try:\n",
    "            return float(ds)\n",
    "        except:\n",
    "            return med\n",
    "\n",
    "    df.sqft_basement = df.sqft_basement.map(sqft_basement_map)\n",
    "    \n",
    "    return df"
   ]
  },
  {
   "cell_type": "code",
   "execution_count": 14,
   "metadata": {},
   "outputs": [
    {
     "data": {
      "text/html": [
       "<div>\n",
       "<style scoped>\n",
       "    .dataframe tbody tr th:only-of-type {\n",
       "        vertical-align: middle;\n",
       "    }\n",
       "\n",
       "    .dataframe tbody tr th {\n",
       "        vertical-align: top;\n",
       "    }\n",
       "\n",
       "    .dataframe thead th {\n",
       "        text-align: right;\n",
       "    }\n",
       "</style>\n",
       "<table border=\"1\" class=\"dataframe\">\n",
       "  <thead>\n",
       "    <tr style=\"text-align: right;\">\n",
       "      <th></th>\n",
       "      <th>price</th>\n",
       "      <th>bedrooms</th>\n",
       "      <th>bathrooms</th>\n",
       "      <th>sqft_living</th>\n",
       "      <th>sqft_lot</th>\n",
       "      <th>floors</th>\n",
       "      <th>condition</th>\n",
       "      <th>grade</th>\n",
       "      <th>sqft_above</th>\n",
       "      <th>sqft_basement</th>\n",
       "    </tr>\n",
       "  </thead>\n",
       "  <tbody>\n",
       "    <tr>\n",
       "      <th>0</th>\n",
       "      <td>221900.0</td>\n",
       "      <td>3</td>\n",
       "      <td>1.00</td>\n",
       "      <td>1180</td>\n",
       "      <td>5650</td>\n",
       "      <td>1.0</td>\n",
       "      <td>3</td>\n",
       "      <td>7</td>\n",
       "      <td>1180</td>\n",
       "      <td>0.0</td>\n",
       "    </tr>\n",
       "    <tr>\n",
       "      <th>1</th>\n",
       "      <td>538000.0</td>\n",
       "      <td>3</td>\n",
       "      <td>2.25</td>\n",
       "      <td>2570</td>\n",
       "      <td>7242</td>\n",
       "      <td>2.0</td>\n",
       "      <td>3</td>\n",
       "      <td>7</td>\n",
       "      <td>2170</td>\n",
       "      <td>400.0</td>\n",
       "    </tr>\n",
       "    <tr>\n",
       "      <th>2</th>\n",
       "      <td>180000.0</td>\n",
       "      <td>2</td>\n",
       "      <td>1.00</td>\n",
       "      <td>770</td>\n",
       "      <td>10000</td>\n",
       "      <td>1.0</td>\n",
       "      <td>3</td>\n",
       "      <td>6</td>\n",
       "      <td>770</td>\n",
       "      <td>0.0</td>\n",
       "    </tr>\n",
       "    <tr>\n",
       "      <th>3</th>\n",
       "      <td>604000.0</td>\n",
       "      <td>4</td>\n",
       "      <td>3.00</td>\n",
       "      <td>1960</td>\n",
       "      <td>5000</td>\n",
       "      <td>1.0</td>\n",
       "      <td>5</td>\n",
       "      <td>7</td>\n",
       "      <td>1050</td>\n",
       "      <td>910.0</td>\n",
       "    </tr>\n",
       "    <tr>\n",
       "      <th>4</th>\n",
       "      <td>510000.0</td>\n",
       "      <td>3</td>\n",
       "      <td>2.00</td>\n",
       "      <td>1680</td>\n",
       "      <td>8080</td>\n",
       "      <td>1.0</td>\n",
       "      <td>3</td>\n",
       "      <td>8</td>\n",
       "      <td>1680</td>\n",
       "      <td>0.0</td>\n",
       "    </tr>\n",
       "  </tbody>\n",
       "</table>\n",
       "</div>"
      ],
      "text/plain": [
       "      price  bedrooms  bathrooms  sqft_living  sqft_lot  floors  condition  \\\n",
       "0  221900.0         3       1.00         1180      5650     1.0          3   \n",
       "1  538000.0         3       2.25         2570      7242     2.0          3   \n",
       "2  180000.0         2       1.00          770     10000     1.0          3   \n",
       "3  604000.0         4       3.00         1960      5000     1.0          5   \n",
       "4  510000.0         3       2.00         1680      8080     1.0          3   \n",
       "\n",
       "   grade  sqft_above  sqft_basement  \n",
       "0      7        1180            0.0  \n",
       "1      7        2170          400.0  \n",
       "2      6         770            0.0  \n",
       "3      7        1050          910.0  \n",
       "4      8        1680            0.0  "
      ]
     },
     "execution_count": 14,
     "metadata": {},
     "output_type": "execute_result"
    }
   ],
   "source": [
    "kc_df_iprep = initial_prep(kc_df_iprep)\n",
    "kc_df_iprep.head()"
   ]
  },
  {
   "cell_type": "markdown",
   "metadata": {},
   "source": [
    "Now that we have the columns we believe will help our model, let's split the dataset into a training and test set to later see if our models properly represent the data."
   ]
  },
  {
   "cell_type": "code",
   "execution_count": 15,
   "metadata": {},
   "outputs": [],
   "source": [
    "from sklearn.model_selection import train_test_split"
   ]
  },
  {
   "cell_type": "code",
   "execution_count": 16,
   "metadata": {},
   "outputs": [],
   "source": [
    "# Target Variable\n",
    "y = kc_df_iprep.price.copy()\n",
    "\n",
    "# independent variables\n",
    "X = kc_df_iprep.drop(columns='price', axis=1).copy()\n",
    "\n",
    "# Splits the data into two sets at a 4:1 ratio of variables for train:test sets\n",
    "X_train, X_test, y_train, y_test = train_test_split(X, y, test_size=.2, random_state=1)"
   ]
  },
  {
   "cell_type": "markdown",
   "metadata": {},
   "source": [
    "## Modeling"
   ]
  },
  {
   "cell_type": "markdown",
   "metadata": {},
   "source": [
    "The initial data preparation is completed, it's time to start our first model which will be a simple linear regression of the variable with the highest correlation to price."
   ]
  },
  {
   "cell_type": "markdown",
   "metadata": {},
   "source": [
    "### Base Model\n"
   ]
  },
  {
   "cell_type": "code",
   "execution_count": 17,
   "metadata": {},
   "outputs": [
    {
     "data": {
      "text/plain": [
       "price            1.000000\n",
       "sqft_living      0.700510\n",
       "grade            0.664836\n",
       "sqft_above       0.605636\n",
       "bathrooms        0.521242\n",
       "sqft_basement    0.317654\n",
       "bedrooms         0.304175\n",
       "floors           0.260027\n",
       "sqft_lot         0.084796\n",
       "condition        0.032537\n",
       "Name: price, dtype: float64"
      ]
     },
     "execution_count": 17,
     "metadata": {},
     "output_type": "execute_result"
    }
   ],
   "source": [
    "# Checks correlation of all variables to price\n",
    "pd.concat([X_train, y_train], axis=1).corr().price.sort_values(ascending=False)"
   ]
  },
  {
   "cell_type": "markdown",
   "metadata": {},
   "source": [
    "The variable with the highest correlation to `price` is `sqft_living`. Let's take a look at the scatter plot and histograms for the variables."
   ]
  },
  {
   "cell_type": "code",
   "execution_count": 18,
   "metadata": {},
   "outputs": [],
   "source": [
    "def base_plots(x, y):\n",
    "    '''\n",
    "    Figure to plot scatter and histograms for price and sqft_living for base model\n",
    "    Inputs: x=price, y=sqft_living\n",
    "    Output: Scatter plot of price vs. sqft_living,\n",
    "            histograms of price and sqft_living\n",
    "    '''\n",
    "    fig, axes = plt.subplots(figsize=(18,6), ncols=3, nrows=1)\n",
    "    \n",
    "#     Price vs. Square Foot Living Scatter Plot\n",
    "    axes[0].scatter(x,y)\n",
    "    axes[0].set_ylabel('Price')\n",
    "    axes[0].set_xlabel('Square Foot Living')\n",
    "    axes[0].set_title('Square Foot Living vs. Price')\n",
    "    \n",
    "#     Square Foot Living Histogram\n",
    "    axes[1].hist(x, bins=30)\n",
    "    axes[1].set_xlabel('Sqare Foot Living')\n",
    "    axes[1].set_ylabel('count')\n",
    "    axes[1].set_title('Square Foot Living')\n",
    "    \n",
    "#     Price Histogram\n",
    "    axes[2].hist(x, bins=30)\n",
    "    axes[2].set_xlabel('Price')\n",
    "    axes[2].set_ylabel('count')\n",
    "    axes[2].set_title('Price')"
   ]
  },
  {
   "cell_type": "code",
   "execution_count": 19,
   "metadata": {},
   "outputs": [
    {
     "data": {
      "image/png": "[encoded data removed]",
      "text/plain": [
       "<Figure size 1296x432 with 3 Axes>"
      ]
     },
     "metadata": {
      "needs_background": "light"
     },
     "output_type": "display_data"
    }
   ],
   "source": [
    "base_plots(X_train.sqft_living, y_train)"
   ]
  },
  {
   "cell_type": "markdown",
   "metadata": {},
   "source": [
    "The histograms for count and price show that the data is a bit skewed to the left. If our model performs poorly maybe we can check if the log of these variable will perform better."
   ]
  },
  {
   "cell_type": "code",
   "execution_count": 54,
   "metadata": {},
   "outputs": [],
   "source": [
    "from sklearn.linear_model import LinearRegression\n",
    "from sklearn.model_selection import cross_validate, ShuffleSplit"
   ]
  },
  {
   "cell_type": "code",
   "execution_count": 55,
   "metadata": {},
   "outputs": [],
   "source": [
    "def base_model(x_train, y_train):\n",
    "    '''\n",
    "    Returns the Rsquared value from 10 randomly selected training\n",
    "    and test sets from the set provided\n",
    "    \n",
    "    inputs: X_train, y_train\n",
    "    output: array of Train Rsquared values,\n",
    "            array of Test Rsquared values,\n",
    "            timing statistics\n",
    "    '''\n",
    "    \n",
    "#     Start a linear regression model\n",
    "    lr = LinearRegression()\n",
    "    \n",
    "#     Create a random splitter, randomly selects 10 sets of train:test sets\n",
    "    splitter = ShuffleSplit(n_splits=10, test_size=0.20, random_state=1)\n",
    "\n",
    "#     Creates models for the 10 sets, returns Rsqared score for each\n",
    "    baseline_scores = cross_validate(\n",
    "        estimator=lr,\n",
    "        X=x_train,\n",
    "        y=y_train,\n",
    "        return_train_score=True,\n",
    "        cv=splitter\n",
    "    )\n",
    "\n",
    "    return baseline_scores"
   ]
  },
  {
   "cell_type": "code",
   "execution_count": 56,
   "metadata": {},
   "outputs": [
    {
     "name": "stdout",
     "output_type": "stream",
     "text": [
      "Baseline Train Rsquared Score: 0.49028\n",
      "Baseline Test Rsquared Score: 0.49105\n"
     ]
    }
   ],
   "source": [
    "base_results = base_model(X_train[['sqft_living']], y_train)\n",
    "print('Baseline Train Rsquared Score: {}'.format(round(base_results['train_score'].mean(), 5)))\n",
    "print('Baseline Test Rsquared Score: {}'.format(round(base_results['test_score'].mean(), 5)))"
   ]
  },
  {
   "cell_type": "markdown",
   "metadata": {},
   "source": [
    "The resulting R<sup>2</sup> score has our modeling explaining only 49% of of our target variables variance. The Train and Test scores also very close. This shows that this model is underfit with a large bias and low variance. Let's take a quick look at the logs of these variables and the resulting model."
   ]
  },
  {
   "cell_type": "code",
   "execution_count": 57,
   "metadata": {},
   "outputs": [],
   "source": [
    "def base_plots_log(x, y):\n",
    "    '''\n",
    "    Figure to plot log scatter and histograms for price and sqft_living for base model\n",
    "    Inputs: x=price, y=sqft_living\n",
    "    Output: Scatter plot of log price vs. log sqft_living,\n",
    "            histograms of log price and log sqft_living\n",
    "    '''\n",
    "    \n",
    "    fig, axes = plt.subplots(figsize=(18,6), ncols=3, nrows=1)\n",
    "    \n",
    "#     takes log of variable\n",
    "    x_log = np.log(x)\n",
    "    y_log = np.log(y)\n",
    "    \n",
    "#     log Price vs log Square Foot Living Scatter Plot\n",
    "    axes[0].scatter(x_log,y_log)\n",
    "    axes[0].set_ylabel('log(Price)')\n",
    "    axes[0].set_xlabel('log(Square Foot Living)')\n",
    "    axes[0].set_title('Square Foot Living vs. Price')\n",
    "    \n",
    "#     Log Square Foot Living Histogram\n",
    "    axes[1].hist(x_log, bins=30)\n",
    "    axes[1].set_xlabel('log(Sqare Foot Living)')\n",
    "    axes[1].set_ylabel('count')\n",
    "    axes[1].set_title('Square Foot Living')\n",
    "    \n",
    "#     Log Price Histrogram\n",
    "    axes[2].hist(x_log, bins=30)\n",
    "    axes[2].set_xlabel('log(Price)')\n",
    "    axes[2].set_ylabel('count')\n",
    "    axes[2].set_title('Price')"
   ]
  },
  {
   "cell_type": "code",
   "execution_count": 58,
   "metadata": {},
   "outputs": [
    {
     "data": {
      "image/png": "[encoded data removed]",
      "text/plain": [
       "<Figure size 1296x432 with 3 Axes>"
      ]
     },
     "metadata": {
      "needs_background": "light"
     },
     "output_type": "display_data"
    }
   ],
   "source": [
    "# Plots the log transformed figures\n",
    "base_plots_log(X_train.sqft_living, y_train)"
   ]
  },
  {
   "cell_type": "markdown",
   "metadata": {},
   "source": [
    "It appears that the log of both variables is very similar to a normal distribution. Let's now test the linear regression model created from these variables."
   ]
  },
  {
   "cell_type": "code",
   "execution_count": 60,
   "metadata": {},
   "outputs": [
    {
     "name": "stdout",
     "output_type": "stream",
     "text": [
      "Baseline log Train Rsquared Score: 0.45296\n",
      "Baseline log Test Rsquared Score: 0.45979\n"
     ]
    }
   ],
   "source": [
    "base_results_log = base_model(np.log(X_train[['sqft_living']]), np.log(y_train))\n",
    "print('Baseline log Train Rsquared Score: {}'.format(round(base_results_log['train_score'].mean(), 5)))\n",
    "print('Baseline log Test Rsquared Score: {}'.format(round(base_results_log['test_score'].mean(), 5)))"
   ]
  },
  {
   "cell_type": "markdown",
   "metadata": {},
   "source": [
    "The R<sup>2</sup> scores have actually gone down compared to our original model. Therefore the previous model will be kept as our baseline model. "
   ]
  },
  {
   "cell_type": "code",
   "execution_count": 26,
   "metadata": {},
   "outputs": [
    {
     "data": {
      "text/plain": [
       "array([282.55569813])"
      ]
     },
     "execution_count": 26,
     "metadata": {},
     "output_type": "execute_result"
    }
   ],
   "source": [
    "linreg_base.coef_"
   ]
  },
  {
   "cell_type": "code",
   "execution_count": 27,
   "metadata": {},
   "outputs": [
    {
     "data": {
      "text/plain": [
       "-47064.10945818981"
      ]
     },
     "execution_count": 27,
     "metadata": {},
     "output_type": "execute_result"
    }
   ],
   "source": [
    "linreg_base.intercept_"
   ]
  },
  {
   "cell_type": "markdown",
   "metadata": {},
   "source": [
    "'''\n",
    "Initial notes on columns:\n",
    "\n",
    "Dropable Columns: ['id', 'date', 'lat', 'long']\n",
    "\n",
    "Missing Data or Misunderstood Data (NaN): waterfront, view, yr_renovated\n",
    "**Need to research document to find more information on NaN values\n",
    "\n",
    "Data Input: \n",
    "    Object Columns: categoricals = ['waterfront', 'view', 'condition', 'grade']\n",
    "    *** Not sure yet how I want to deal with grade\n",
    "    \n",
    "grade: contains numeric and written classification, should get rid of written classification\n",
    "\n",
    "yr_renovated: has both 0 and NaN inputs, look into this \n",
    "\n",
    "waterfront: has both no and NaN\n",
    "\n",
    "view: has both None and NaN\n",
    "\n",
    "Data needs to be normalized: Columns including sqft have large values, also some have zero values because they\n",
    "don't exist in those homes\n",
    "\n",
    "sqft_lots has some outliers, may need to be cut off\n",
    "bedrooms has a clear outlier of 33, possibly even 10 and 11\n",
    "Maybe split year built into segments and categorize them.\n",
    "'''"
   ]
  }
 ],
 "metadata": {
  "kernelspec": {
   "display_name": "Python (learn-env)",
   "language": "python",
   "name": "learn-env"
  },
  "language_info": {
   "codemirror_mode": {
    "name": "ipython",
    "version": 3
   },
   "file_extension": ".py",
   "mimetype": "text/x-python",
   "name": "python",
   "nbconvert_exporter": "python",
   "pygments_lexer": "ipython3",
   "version": "3.8.5"
  }
 },
 "nbformat": 4,
 "nbformat_minor": 4
}
